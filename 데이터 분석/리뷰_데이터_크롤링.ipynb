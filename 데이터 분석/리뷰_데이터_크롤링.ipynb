{
 "cells": [
  {
   "cell_type": "code",
   "execution_count": 8,
   "metadata": {},
   "outputs": [],
   "source": [
    "from selenium import webdriver\n",
    "from selenium.webdriver.common.by import By\n",
    "\n",
    "import requests\n",
    "from bs4 import BeautifulSoup as bs\n",
    "import time\n",
    "import pandas as pd\n",
    "from tqdm.auto import tqdm\n",
    "import random"
   ]
  },
  {
   "cell_type": "code",
   "execution_count": 2,
   "metadata": {},
   "outputs": [],
   "source": [
    "# 크롤링 함수\n",
    "def crawl(start, end):\n",
    "    for p in range(start,end):\n",
    "        html = driver.page_source\n",
    "        soup = bs(html, 'html.parser')\n",
    "        \n",
    "        reviews = soup.select('#review > ul > li')\n",
    "        \n",
    "        for r in reviews:\n",
    "            review.append(r.select_one('.txt').text)\n",
    "            star.append(r.select_one('.score_wrap_sm .num').text)\n",
    "\n",
    "        driver.find_element(By.XPATH, '//*[@id=\"pagination\"]/div/button['+str(p)+']').click()\n",
    "        time.sleep(0.5)\n",
    "        #print(soup.select('.paging .on')[0].text)"
   ]
  },
  {
   "cell_type": "code",
   "execution_count": 4,
   "metadata": {},
   "outputs": [],
   "source": [
    "def make_review_crawl(url):\n",
    "\n",
    "    driver.get(url)\n",
    "\n",
    "    # 페이지 파싱\n",
    "    html = driver.page_source\n",
    "    soup = bs(html, 'html.parser')\n",
    "\n",
    "    # '리뷰' 클릭하도록 명령\n",
    "    driver.find_element(By.XPATH, '//*[@id=\"content\"]/div[2]/button[3]').click()\n",
    "    \n",
    "    top_text = soup.select('.score_top')[0].find('strong').text\n",
    "    top_score = soup.select('.score_top .num')[0].text\n",
    "    top_total=soup.select('.score_top')[0].find('p').find('b').text\n",
    "\n",
    "    # 리뷰 총 개수\n",
    "    top_total = int(soup.select('.score_top')[0].find('p').find('b').text)\n",
    "\n",
    "    # 마지막 페이지 수 (한페이지에 리뷰 10개씩)\n",
    "    last_page = top_total // 10 + 1 \n",
    "\n",
    "    # next_page 몇 번 클릭 해야하는지 설정\n",
    "    if last_page % 5 == 0:\n",
    "        page_step = last_page // 5 \n",
    "    else:\n",
    "        page_step = last_page // 5 + 1   \n",
    "    \n",
    "    #print(top_total, last_page, page_step)\n",
    "    step = 1\n",
    "    while(page_step >= step):\n",
    "        \n",
    "        # 첫번째 step\n",
    "        if step == 1:\n",
    "            #print('step1 loop')\n",
    "            crawl(2,7)\n",
    "            \n",
    "        # 마지막 step\n",
    "        elif step == page_step:\n",
    "            #print('step 마지막 loop')\n",
    "\n",
    "                \n",
    "            if top_total % 50 > 10:\n",
    "                            \n",
    "                if last_page % 5 == 0:\n",
    "                    end_page = 7\n",
    "                else: \n",
    "                    end_page =last_page % 5 + 2\n",
    "                \n",
    "                crawl(3, end_page)\n",
    "\n",
    "            # 마지막 페이지\n",
    "            html = driver.page_source\n",
    "            soup = bs(html, 'html.parser')\n",
    "            reviews = soup.select('#review > ul > li')\n",
    "        \n",
    "            for r in reviews:\n",
    "                review.append(r.select_one('.txt').text)\n",
    "                star.append(r.select_one('.score_wrap_sm .num').text)    \n",
    "        # 중간 step\n",
    "        else:\n",
    "            #print('step 중간 loop')\n",
    "            crawl(3,8)\n",
    "        step += 1"
   ]
  },
  {
   "cell_type": "code",
   "execution_count": 5,
   "metadata": {},
   "outputs": [],
   "source": [
    "driver = webdriver.Chrome()\n",
    "# 여기어때 상품 리뷰 주소\n",
    "url = \"https://www.goodchoice.kr/product/detail?ano=6010\"\n",
    "driver.get(url)\n",
    "\n",
    "# 페이지 파싱\n",
    "html = driver.page_source\n",
    "soup = bs(html, 'html.parser')"
   ]
  },
  {
   "cell_type": "code",
   "execution_count": 9,
   "metadata": {},
   "outputs": [],
   "source": [
    "# 전체 상품 중에 랜덤하게 추출\n",
    "random.seed(42)\n",
    "idx = random.sample(range(1,70000), 1000)\n",
    "idx = sorted(idx)\n",
    "#print(idx)"
   ]
  },
  {
   "cell_type": "code",
   "execution_count": null,
   "metadata": {},
   "outputs": [],
   "source": [
    "driver = webdriver.Chrome()\n",
    "review = []\n",
    "star = []\n",
    "\n",
    "# 페이지 로딩 3초 대기\n",
    "driver.implicitly_wait(3)\n",
    "for i in tqdm(idx):\n",
    "    try:\n",
    "        make_review_crawl(f'https://www.goodchoice.kr/product/detail?ano={i}')\n",
    "    except:\n",
    "        # 상품 고유번호가 없는 경우 error 출력\n",
    "        print(i, 'error')\n",
    "        continue\n",
    "driver.close()"
   ]
  },
  {
   "cell_type": "code",
   "execution_count": null,
   "metadata": {},
   "outputs": [],
   "source": [
    "#df = pd.DataFrame({'review':review, 'star':star})\n",
    "#df.to_csv('여기어때_리뷰_크롤링.csv', encoding = 'utf-8-sig', index=False)"
   ]
  }
 ],
 "metadata": {
  "kernelspec": {
   "display_name": "mvp",
   "language": "python",
   "name": "python3"
  },
  "language_info": {
   "codemirror_mode": {
    "name": "ipython",
    "version": 3
   },
   "file_extension": ".py",
   "mimetype": "text/x-python",
   "name": "python",
   "nbconvert_exporter": "python",
   "pygments_lexer": "ipython3",
   "version": "3.11.5"
  }
 },
 "nbformat": 4,
 "nbformat_minor": 2
}
